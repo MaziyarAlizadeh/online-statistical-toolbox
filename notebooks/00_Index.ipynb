{
 "cells": [
  {
   "cell_type": "markdown",
   "id": "8b1856b4",
   "metadata": {},
   "source": [
    "# Online Statistical Toolbox — Index\n",
    "تاریخ ایجاد: 2025-08-13\n",
    "\n",
    "به این جعبه‌ابزار خوش آمدید. این مجموعه شامل نوت‌بوک‌هایی با کدهای مستند، توضیحات کوتاه،\n",
    "تصویری‌سازی و دیتاست‌های نمونه است. از این صفحه به بخش‌های مختلف بروید:\n",
    "\n",
    "- 01_Descriptive_Stats.ipynb — آمار توصیفی، بصری‌سازی و خلاصه‌سازی داده\n",
    "- 02_Hypothesis_Tests.ipynb — آزمون‌های t، نسبت، کای-دو و آزمون نرمال بودن\n",
    "- 03_Regression.ipynb — رگرسیون خطی و لجستیک (مقدماتی)\n",
    "- 04_ANOVA_Nonparametric.ipynb — ANOVA یک‌طرفه و آزمون‌های ناپارامتری\n",
    "- 05_Resampling_Power.ipynb — بوت‌استرپ، بازنمونه‌گیری و محاسبه توان (Power)\n",
    "- 06_Time_Series.ipynb — مقدمات سری زمانی و میانگین متحرک\n",
    "- 07_Interactive_Widgets.ipynb — ابزارک‌های تعاملی (اختیاری)\n",
    "\n",
    "**داده‌ها** در پوشه `data/` قرار دارند. برای اجرای هر نوت‌بوک کافیست مسیر را بررسی کنید."
   ]
  },
  {
   "cell_type": "markdown",
   "id": "e020191e",
   "metadata": {},
   "source": [
    "## نحوه استفاده سریع\n",
    "1. همه پکیج‌ها را نصب کنید (numpy, pandas, scipy, matplotlib, statsmodels در صورت نیاز).\n",
    "2. نوت‌بوک‌ها را به ترتیب باز کنید.\n",
    "3. مثال‌ها را اجرا و خروجی‌ها را بررسی کنید."
   ]
  }
 ],
 "metadata": {},
 "nbformat": 4,
 "nbformat_minor": 5
}
