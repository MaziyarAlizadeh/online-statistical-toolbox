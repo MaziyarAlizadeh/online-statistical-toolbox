{
 "cells": [
  {
   "cell_type": "markdown",
   "id": "8b1856b4",
   "metadata": {},
   "source": [
    "# Online Statistical Toolbox — Index\n",
    "\n",
    "Welcome to this toolkit. This collection includes notebooks with documented code, short explanations, visualizations, and sample datasets. From this page, navigate to the different sections:\n",
    "\n",
    "- 01_Descriptive_Stats.ipynb\n",
    "- 02_Hypothesis_Tests.ipynb\n",
    "- 03_Regression.ipynb\n",
    "- 04_ANOVA_Nonparametric.ipynb\n",
    "- 05_Resampling_Power.ipynb\n",
    "- 06_Time_Series.ipynb\n",
    "- 07_Interactive_Widgets.ipynb\n",
    "\n",
    "The data is located in the `data/` folder. To run any notebook, just check the path. "  ]
  },
  {
   "cell_type": "markdown",
   "id": "e020191e",
   "metadata": {},
   "source": [
    "## Quick how to use\n",
    "1. Install all packages (numpy, pandas, scipy, matplotlib, statsmodels if needed).\n",
    "2. Open the notebooks in order.\n",
    "3. Run the examples and check the outputs."
   ]
  }
 ],
 "metadata": {},
 "nbformat": 4,
 "nbformat_minor": 5
}
