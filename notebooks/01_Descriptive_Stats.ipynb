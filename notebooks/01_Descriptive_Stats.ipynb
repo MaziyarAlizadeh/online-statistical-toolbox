{
 "cells": [
  {
   "cell_type": "markdown",
   "id": "5cfdc0bd",
   "metadata": {},
   "source": [
    "# 01 — Descriptive and Visualization Statistics\n",
    "\n",
    "**When to use: Whenever we want to have an overview of the data:\n",
    "Mean, median, variance, distributions, and simple relationships."
   ]
  },
  {
   "cell_type": "code",
   "execution_count": null,
   "id": "feff653d",
   "metadata": {},
   "outputs": [],
   "source": [
    "import pandas as pd\n",
    "import numpy as np\n",
    "import matplotlib.pyplot as plt\n",
    "\n",
    "df = pd.read_csv(\"../data/demographics.csv\")\n",
    "df.head()"
   ]
  },
  {
   "cell_type": "markdown",
   "id": "99ef2cff",
   "metadata": {},
   "source": [
    "## Numerical summaries"
   ]
  },
  {
   "cell_type": "code",
   "execution_count": null,
   "id": "e638365a",
   "metadata": {},
   "outputs": [],
   "source": [
    "desc = df.describe(include='all')\n",
    "desc"
   ]
  },
  {
   "cell_type": "markdown",
   "id": "46463d1d",
   "metadata": {},
   "source": [
    "## Histogram and box plot"
   ]
  },
  {
   "cell_type": "code",
   "execution_count": null,
   "id": "fad7bba5",
   "metadata": {},
   "outputs": [],
   "source": [
    "plt.figure()\n",
    "df[\"age\"].plot(kind=\"hist\", bins=20, edgecolor=\"black\")\n",
    "plt.title(\"Histogram of Age\")\n",
    "plt.xlabel(\"Age\")\n",
    "plt.ylabel(\"Frequency\")\n",
    "plt.show()\n",
    "\n",
    "plt.figure()\n",
    "df.boxplot(column=\"income\", by=\"group\")\n",
    "plt.title(\"Income by Group\")\n",
    "plt.suptitle(\"\")\n",
    "plt.xlabel(\"Group\")\n",
    "plt.ylabel(\"Income\")\n",
    "plt.show()"
   ]
  },
  {
   "cell_type": "markdown",
   "id": "d64e208b",
   "metadata": {},
   "source": [
    "## Simple numerical correlation"
   ]
  },
  {
   "cell_type": "code",
   "execution_count": null,
   "id": "484b380e",
   "metadata": {},
   "outputs": [],
   "source": [
    "num_cols = df.select_dtypes(include=[np.number])\n",
    "num_cols.corr()"
   ]
  },
  {
   "cell_type": "markdown",
   "id": "4fdb368c",
   "metadata": {},
   "source": [
    "Usage tips  \n",
    "- Use a box plot to detect outliers  \n",
    "- Use conditional statistics (groupby) to compare groups"
   ]
  }
 ],
 "metadata": {},
 "nbformat": 4,
 "nbformat_minor": 5
}
