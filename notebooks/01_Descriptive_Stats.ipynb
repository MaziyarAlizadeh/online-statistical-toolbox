{
 "cells": [
  {
   "cell_type": "markdown",
   "id": "5cfdc0bd",
   "metadata": {},
   "source": [
    "# 01 — آمار توصیفی و تصویری‌سازی\n",
    "\n",
    "**چه زمانی استفاده می‌شود؟** هر زمان که بخواهیم نمای کلی از داده‌ها داشته باشیم:\n",
    "میانگین، میانه، واریانس، توزیع‌ها و روابط ساده."
   ]
  },
  {
   "cell_type": "code",
   "execution_count": null,
   "id": "feff653d",
   "metadata": {},
   "outputs": [],
   "source": [
    "import pandas as pd\n",
    "import numpy as np\n",
    "import matplotlib.pyplot as plt\n",
    "\n",
    "df = pd.read_csv(\"../data/demographics.csv\")\n",
    "df.head()"
   ]
  },
  {
   "cell_type": "markdown",
   "id": "99ef2cff",
   "metadata": {},
   "source": [
    "## خلاصه‌های عددی"
   ]
  },
  {
   "cell_type": "code",
   "execution_count": null,
   "id": "e638365a",
   "metadata": {},
   "outputs": [],
   "source": [
    "desc = df.describe(include='all')\n",
    "desc"
   ]
  },
  {
   "cell_type": "markdown",
   "id": "46463d1d",
   "metadata": {},
   "source": [
    "## هیستوگرام و نمودار جعبه‌ای"
   ]
  },
  {
   "cell_type": "code",
   "execution_count": null,
   "id": "fad7bba5",
   "metadata": {},
   "outputs": [],
   "source": [
    "plt.figure()\n",
    "df[\"age\"].plot(kind=\"hist\", bins=20, edgecolor=\"black\")\n",
    "plt.title(\"Histogram of Age\")\n",
    "plt.xlabel(\"Age\")\n",
    "plt.ylabel(\"Frequency\")\n",
    "plt.show()\n",
    "\n",
    "plt.figure()\n",
    "df.boxplot(column=\"income\", by=\"group\")\n",
    "plt.title(\"Income by Group\")\n",
    "plt.suptitle(\"\")\n",
    "plt.xlabel(\"Group\")\n",
    "plt.ylabel(\"Income\")\n",
    "plt.show()"
   ]
  },
  {
   "cell_type": "markdown",
   "id": "d64e208b",
   "metadata": {},
   "source": [
    "## همبستگی عددی ساده"
   ]
  },
  {
   "cell_type": "code",
   "execution_count": null,
   "id": "484b380e",
   "metadata": {},
   "outputs": [],
   "source": [
    "num_cols = df.select_dtypes(include=[np.number])\n",
    "num_cols.corr()"
   ]
  },
  {
   "cell_type": "markdown",
   "id": "4fdb368c",
   "metadata": {},
   "source": [
    "**نکات استفاده:**  \n",
    "- برای تشخیص داده‌های پرت از نمودار جعبه‌ای استفاده کنید.  \n",
    "- برای مقایسه گروه‌ها از آمار شرطی (groupby) استفاده کنید."
   ]
  }
 ],
 "metadata": {},
 "nbformat": 4,
 "nbformat_minor": 5
}
