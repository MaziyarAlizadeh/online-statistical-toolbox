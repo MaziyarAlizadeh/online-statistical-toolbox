{
 "cells": [
  {
   "cell_type": "markdown",
   "id": "d64d4b96",
   "metadata": {},
   "source": [
    "# 02 — Hypothesis Testing\n",
    "\n",
    "Including: one-sample and two-sample t-test, ratio test, chi-square test of independence, and normality test."
   ]
  },
  {
   "cell_type": "code",
   "execution_count": null,
   "id": "a02864cb",
   "metadata": {},
   "outputs": [],
   "source": [
    "import pandas as pd\n",
    "import numpy as np\n",
    "import matplotlib.pyplot as plt\n",
    "from math import sqrt\n",
    "from scipy import stats\n",
    "\n",
    "ab = pd.read_csv(\"../data/ab_test.csv\")\n",
    "ab.head()"
   ]
  },
  {
   "cell_type": "markdown",
   "id": "4298f81c",
   "metadata": {},
   "source": [
    "## Proportion test (two independent groups)"
   ]
  },
  {
   "cell_type": "code",
   "execution_count": null,
   "id": "1a0cedae",
   "metadata": {},
   "outputs": [],
   "source": [
    "# نConversion rate in each group\n",
    "p_c = ab.loc[ab.variant==\"control\", \"converted\"].mean()\n",
    "p_t = ab.loc[ab.variant==\"treatment\", \"converted\"].mean()\n",
    "n_c = (ab.variant==\"control\").sum()\n",
    "n_t = (ab.variant==\"treatment\").sum()\n",
    "\n",
    "# Z-statistic for the difference in proportions\n",
    "p_pool = (ab.converted.sum())/(n_c+n_t)\n",
    "se = np.sqrt(p_pool*(1-p_pool)*(1/n_c + 1/n_t))\n",
    "z = (p_t - p_c)/se\n",
    "p_value = 2*(1-stats.norm.cdf(abs(z)))\n",
    "p_c, p_t, z, p_value"
   ]
  },
  {
   "cell_type": "markdown",
   "id": "33d5f051",
   "metadata": {},
   "source": [
    "## t-test (two independent samples)"
   ]
  },
  {
   "cell_type": "code",
   "execution_count": null,
   "id": "1f9a3208",
   "metadata": {},
   "outputs": [],
   "source": [
    "# Constructing synthetic data: scores of two groups\n",
    "np.random.seed(0)\n",
    "g1 = np.random.normal(70, 10, 80)\n",
    "g2 = np.random.normal(74, 10, 75)\n",
    "t_stat, p_val = stats.ttest_ind(g1, g2, equal_var=False)\n",
    "t_stat, p_val"
   ]
  },
  {
   "cell_type": "markdown",
   "id": "af7aae8c",
   "metadata": {},
   "source": [
    "## Chi-square test of independence"
   ]
  },
  {
   "cell_type": "code",
   "execution_count": null,
   "id": "4cc823b6",
   "metadata": {},
   "outputs": [],
   "source": [
    "cats = pd.read_csv(\"../data/categorical.csv\")\n",
    "cont = pd.crosstab(cats[\"gender\"], cats[\"preference\"])\n",
    "chi2, p, dof, exp = stats.chi2_contingency(cont)\n",
    "cont, chi2, p"
   ]
  },
  {
   "cell_type": "markdown",
   "id": "3a4bb53e",
   "metadata": {},
   "source": [
    "## Normality test (Shapiro–Wilk)"
   ]
  },
  {
   "cell_type": "code",
   "execution_count": null,
   "id": "d0e5a868",
   "metadata": {},
   "outputs": [],
   "source": [
    "w, p = stats.shapiro(g1)\n",
    "w, p"
   ]
  },
  {
   "cell_type": "markdown",
   "id": "84a35265",
   "metadata": {},
   "source": [
    "Interpretation: If `p-value < α` (e.g. 0.05), we reject the null hypothesis.  \n",
    "Tips: Report the power of the test and the effect size."
   ]
  }
 ],
 "metadata": {},
 "nbformat": 4,
 "nbformat_minor": 5
}
