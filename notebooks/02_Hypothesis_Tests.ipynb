{
 "cells": [
  {
   "cell_type": "markdown",
   "id": "d64d4b96",
   "metadata": {},
   "source": [
    "# 02 — آزمون فرضیه\n",
    "\n",
    "شامل: آزمون t یک‌نمونه‌ای و دو نمونه‌ای، آزمون نسبت‌ها، آزمون کای-دو استقلال و آزمون نرمال بودن."
   ]
  },
  {
   "cell_type": "code",
   "execution_count": null,
   "id": "a02864cb",
   "metadata": {},
   "outputs": [],
   "source": [
    "import pandas as pd\n",
    "import numpy as np\n",
    "import matplotlib.pyplot as plt\n",
    "from math import sqrt\n",
    "from scipy import stats\n",
    "\n",
    "ab = pd.read_csv(\"../data/ab_test.csv\")\n",
    "ab.head()"
   ]
  },
  {
   "cell_type": "markdown",
   "id": "4298f81c",
   "metadata": {},
   "source": [
    "## آزمون نسبت‌ها (دو گروه مستقل)"
   ]
  },
  {
   "cell_type": "code",
   "execution_count": null,
   "id": "1a0cedae",
   "metadata": {},
   "outputs": [],
   "source": [
    "# نرخ تبدیل در هر گروه\n",
    "p_c = ab.loc[ab.variant==\"control\", \"converted\"].mean()\n",
    "p_t = ab.loc[ab.variant==\"treatment\", \"converted\"].mean()\n",
    "n_c = (ab.variant==\"control\").sum()\n",
    "n_t = (ab.variant==\"treatment\").sum()\n",
    "\n",
    "# آماره z برای تفاوت نسبت‌ها\n",
    "p_pool = (ab.converted.sum())/(n_c+n_t)\n",
    "se = np.sqrt(p_pool*(1-p_pool)*(1/n_c + 1/n_t))\n",
    "z = (p_t - p_c)/se\n",
    "p_value = 2*(1-stats.norm.cdf(abs(z)))\n",
    "p_c, p_t, z, p_value"
   ]
  },
  {
   "cell_type": "markdown",
   "id": "33d5f051",
   "metadata": {},
   "source": [
    "## آزمون t (دو نمونه مستقل)"
   ]
  },
  {
   "cell_type": "code",
   "execution_count": null,
   "id": "1f9a3208",
   "metadata": {},
   "outputs": [],
   "source": [
    "# ساخت داده مصنوعی: نمرات دو گروه\n",
    "np.random.seed(0)\n",
    "g1 = np.random.normal(70, 10, 80)\n",
    "g2 = np.random.normal(74, 10, 75)\n",
    "t_stat, p_val = stats.ttest_ind(g1, g2, equal_var=False)\n",
    "t_stat, p_val"
   ]
  },
  {
   "cell_type": "markdown",
   "id": "af7aae8c",
   "metadata": {},
   "source": [
    "## آزمون کای-دو استقلال"
   ]
  },
  {
   "cell_type": "code",
   "execution_count": null,
   "id": "4cc823b6",
   "metadata": {},
   "outputs": [],
   "source": [
    "cats = pd.read_csv(\"../data/categorical.csv\")\n",
    "cont = pd.crosstab(cats[\"gender\"], cats[\"preference\"])\n",
    "chi2, p, dof, exp = stats.chi2_contingency(cont)\n",
    "cont, chi2, p"
   ]
  },
  {
   "cell_type": "markdown",
   "id": "3a4bb53e",
   "metadata": {},
   "source": [
    "## آزمون نرمال بودن (Shapiro–Wilk)"
   ]
  },
  {
   "cell_type": "code",
   "execution_count": null,
   "id": "d0e5a868",
   "metadata": {},
   "outputs": [],
   "source": [
    "w, p = stats.shapiro(g1)\n",
    "w, p"
   ]
  },
  {
   "cell_type": "markdown",
   "id": "84a35265",
   "metadata": {},
   "source": [
    "**تفسیر:** اگر `p-value < α` (مثلاً 0.05)، فرض صفر را رد می‌کنیم.  \n",
    "**نکات:** قدرت آزمون و اندازه اثر را گزارش کنید."
   ]
  }
 ],
 "metadata": {},
 "nbformat": 4,
 "nbformat_minor": 5
}
