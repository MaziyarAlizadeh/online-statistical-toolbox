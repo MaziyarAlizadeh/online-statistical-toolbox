{
 "cells": [
  {
   "cell_type": "markdown",
   "id": "082d1e1d",
   "metadata": {},
   "source": [
    "# 03 — رگرسیون\n",
    "\n",
    "**چه زمانی؟** پیش‌بینی مقدار پیوسته (رگرسیون خطی) یا احتمال/طبقه (لجستیک)."
   ]
  },
  {
   "cell_type": "code",
   "execution_count": null,
   "id": "b03b0ba5",
   "metadata": {},
   "outputs": [],
   "source": [
    "import pandas as pd\n",
    "import numpy as np\n",
    "import matplotlib.pyplot as plt\n",
    "\n",
    "reg = pd.read_csv(\"../data/linear_regression.csv\")\n",
    "\n",
    "# دیدن داده\n",
    "reg.head()"
   ]
  },
  {
   "cell_type": "markdown",
   "id": "c7e409eb",
   "metadata": {},
   "source": [
    "## برازش یک خط ساده با numpy.polyfit"
   ]
  },
  {
   "cell_type": "code",
   "execution_count": null,
   "id": "ea9b7281",
   "metadata": {},
   "outputs": [],
   "source": [
    "coef = np.polyfit(reg[\"x\"], reg[\"y\"], deg=1)\n",
    "slope, intercept = coef[0], coef[1]\n",
    "slope, intercept"
   ]
  },
  {
   "cell_type": "code",
   "execution_count": null,
   "id": "bd1d972b",
   "metadata": {},
   "outputs": [],
   "source": [
    "plt.figure()\n",
    "plt.scatter(reg[\"x\"], reg[\"y\"], alpha=0.6)\n",
    "xline = np.linspace(reg[\"x\"].min(), reg[\"x\"].max(), 100)\n",
    "yline = slope*xline + intercept\n",
    "plt.plot(xline, yline)\n",
    "plt.title(\"Linear Regression (polyfit)\")\n",
    "plt.xlabel(\"x\")\n",
    "plt.ylabel(\"y\")\n",
    "plt.show()"
   ]
  },
  {
   "cell_type": "markdown",
   "id": "e2b0e000",
   "metadata": {},
   "source": [
    "**یادداشت:** برای رگرسیون‌های پیشرفته‌تر (اثرات طبقه‌ای، تشخیصی، لجستیک) می‌توانید از `statsmodels` استفاده کنید."
   ]
  },
  {
   "cell_type": "code",
   "execution_count": null,
   "id": "1169ce9e",
   "metadata": {},
   "outputs": [],
   "source": [
    "# نمونه لجستیک ساده با داده مصنوعی\n",
    "from scipy.special import expit\n",
    "\n",
    "np.random.seed(1)\n",
    "X = np.random.normal(size=400)\n",
    "# مدل حقیقی: logit(p)= -0.5 + 2*X\n",
    "p = expit(-0.5 + 2*X)\n",
    "y = np.random.binomial(1, p)\n",
    "\n",
    "# برازش لجستیک با گرادیان نزولی بسیار ساده (نمایشی)\n",
    "# (برای پروژه واقعی: statsmodels یا scikit-learn پیشنهاد می‌شود.)\n",
    "beta0, beta1 = 0.0, 0.0\n",
    "lr = 0.01\n",
    "for _ in range(2000):\n",
    "    z = beta0 + beta1*X\n",
    "    pred = expit(z)\n",
    "    g0 = np.sum(pred - y)\n",
    "    g1 = np.sum((pred - y)*X)\n",
    "    beta0 -= lr*g0/len(X)\n",
    "    beta1 -= lr*g1/len(X)\n",
    "\n",
    "beta0, beta1"
   ]
  }
 ],
 "metadata": {},
 "nbformat": 4,
 "nbformat_minor": 5
}
