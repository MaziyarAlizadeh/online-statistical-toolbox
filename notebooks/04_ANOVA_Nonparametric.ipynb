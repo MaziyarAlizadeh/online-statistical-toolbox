{
 "cells": [
  {
   "cell_type": "markdown",
   "id": "c8613847",
   "metadata": {},
   "source": [
    "# 04 — ANOVA and nonparametric tests"
   ]
  },
  {
   "cell_type": "code",
   "execution_count": null,
   "id": "c2557853",
   "metadata": {},
   "outputs": [],
   "source": [
    "import numpy as np\n",
    "import pandas as pd\n",
    "import matplotlib.pyplot as plt\n",
    "from scipy import stats\n",
    "\n",
    "# Creating three groups with different averages\n",
    "np.random.seed(0)\n",
    "g1 = np.random.normal(50, 8, 60)\n",
    "g2 = np.random.normal(55, 8, 60)\n",
    "g3 = np.random.normal(60, 8, 60)\n",
    "\n",
    "f_stat, p_val = stats.f_oneway(g1, g2, g3)\n",
    "f_stat, p_val"
   ]
  },
  {
   "cell_type": "markdown",
   "id": "5e85af8e",
   "metadata": {},
   "source": [
    "## Mann–Whitney U test (two groups, nonparametric)"
   ]
  },
  {
   "cell_type": "code",
   "execution_count": null,
   "id": "e84186dc",
   "metadata": {},
   "outputs": [],
   "source": [
    "u_stat, p_val = stats.mannwhitneyu(g1, g2, alternative=\"two-sided\")\n",
    "u_stat, p_val"
   ]
  },
  {
   "cell_type": "markdown",
   "id": "2c08146e",
   "metadata": {},
   "source": [
    "Explanation: ANOVA examines the differences in means between multiple groups.  \n",
    "If the assumption of normality or equality of variances is violated, turn to nonparametric tests."
   ]
  }
 ],
 "metadata": {},
 "nbformat": 4,
 "nbformat_minor": 5
}
