{
 "cells": [
  {
   "cell_type": "markdown",
   "id": "d2f631e8",
   "metadata": {},
   "source": [
    "# 05 — Bootstrap and Power"
   ]
  },
  {
   "cell_type": "code",
   "execution_count": null,
   "id": "0e00a637",
   "metadata": {},
   "outputs": [],
   "source": [
    "import numpy as np\n",
    "import pandas as pd\n",
    "import matplotlib.pyplot as plt\n",
    "\n",
    "# Bootstrap sample for the mean\n",
    "np.random.seed(0)\n",
    "x = np.random.normal(10, 3, 200)\n",
    "\n",
    "B = 2000\n",
    "means = []\n",
    "for b in range(B):\n",
    "    sample = np.random.choice(x, size=len(x), replace=True)\n",
    "    means.append(sample.mean())\n",
    "\n",
    "ci_low, ci_high = np.percentile(means, [2.5, 97.5])\n",
    "x.mean(), (ci_low, ci_high)"
   ]
  },
  {
   "cell_type": "markdown",
   "id": "d47bd279",
   "metadata": {},
   "source": [
    "## Approximation of test power by simulation (two independent samples)"
   ]
  },
  {
   "cell_type": "code",
   "execution_count": null,
   "id": "dfce7b58",
   "metadata": {},
   "outputs": [],
   "source": [
    "import numpy as np\n",
    "from scipy import stats\n",
    "\n",
    "np.random.seed(1)\n",
    "alpha = 0.05\n",
    "n_per_group = 50\n",
    "delta = 0.5 True mean difference\n",
    "sigma = 1.0\n",
    "sims = 1000\n",
    "rejections = 0\n",
    "for _ in range(sims):\n",
    "    g1 = np.random.normal(0, sigma, n_per_group)\n",
    "    g2 = np.random.normal(delta, sigma, n_per_group)\n",
    "    t, p = stats.ttest_ind(g1, g2, equal_var=True)\n",
    "    if p < alpha:\n",
    "        rejections += 1\n",
    "power = rejections/sims\n",
    "power"
   ]
  },
  {
   "cell_type": "markdown",
   "id": "600ac44c",
   "metadata": {},
   "source": [
    "Note: For more accurate power calculations, use specialized libraries; but this simulation gives a good intuitive feel."
   ]
  }
 ],
 "metadata": {},
 "nbformat": 4,
 "nbformat_minor": 5
}
