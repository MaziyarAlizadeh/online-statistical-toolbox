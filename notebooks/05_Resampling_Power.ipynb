{
 "cells": [
  {
   "cell_type": "markdown",
   "id": "d2f631e8",
   "metadata": {},
   "source": [
    "# 05 — بازنمونه‌گیری (Bootstrap) و توان آزمون (Power)"
   ]
  },
  {
   "cell_type": "code",
   "execution_count": null,
   "id": "0e00a637",
   "metadata": {},
   "outputs": [],
   "source": [
    "import numpy as np\n",
    "import pandas as pd\n",
    "import matplotlib.pyplot as plt\n",
    "\n",
    "# نمونه بوت‌استرپ برای میانگین\n",
    "np.random.seed(0)\n",
    "x = np.random.normal(10, 3, 200)\n",
    "\n",
    "B = 2000\n",
    "means = []\n",
    "for b in range(B):\n",
    "    sample = np.random.choice(x, size=len(x), replace=True)\n",
    "    means.append(sample.mean())\n",
    "\n",
    "ci_low, ci_high = np.percentile(means, [2.5, 97.5])\n",
    "x.mean(), (ci_low, ci_high)"
   ]
  },
  {
   "cell_type": "markdown",
   "id": "d47bd279",
   "metadata": {},
   "source": [
    "## تقریب توان آزمون با شبیه‌سازی (دو نمونه مستقل)"
   ]
  },
  {
   "cell_type": "code",
   "execution_count": null,
   "id": "dfce7b58",
   "metadata": {},
   "outputs": [],
   "source": [
    "import numpy as np\n",
    "from scipy import stats\n",
    "\n",
    "np.random.seed(1)\n",
    "alpha = 0.05\n",
    "n_per_group = 50\n",
    "delta = 0.5  # اختلاف میانگین واقعی\n",
    "sigma = 1.0\n",
    "sims = 1000\n",
    "rejections = 0\n",
    "for _ in range(sims):\n",
    "    g1 = np.random.normal(0, sigma, n_per_group)\n",
    "    g2 = np.random.normal(delta, sigma, n_per_group)\n",
    "    t, p = stats.ttest_ind(g1, g2, equal_var=True)\n",
    "    if p < alpha:\n",
    "        rejections += 1\n",
    "power = rejections/sims\n",
    "power"
   ]
  },
  {
   "cell_type": "markdown",
   "id": "600ac44c",
   "metadata": {},
   "source": [
    "**نکته:** برای محاسبات دقیق‌تر توان، از کتابخانه‌های تخصصی استفاده کنید؛ اما این شبیه‌سازی شهودی خوبی می‌دهد."
   ]
  }
 ],
 "metadata": {},
 "nbformat": 4,
 "nbformat_minor": 5
}
