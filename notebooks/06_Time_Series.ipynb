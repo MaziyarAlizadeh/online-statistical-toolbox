{
 "cells": [
  {
   "cell_type": "markdown",
   "id": "5c9aa8ca",
   "metadata": {},
   "source": [
    "06 — Time Series (Introduction)"
   ]
  },
  {
   "cell_type": "code",
   "execution_count": null,
   "id": "65ad814f",
   "metadata": {},
   "outputs": [],
   "source": [
    "import pandas as pd\n",
    "import numpy as np\n",
    "import matplotlib.pyplot as plt\n",
    "\n",
    "ts = pd.read_csv(\"../data/time_series_daily.csv\", parse_dates=[\"date\"])\n",
    "ts = ts.set_index(\"date\")\n",
    "ts.head()"
   ]
  },
  {
   "cell_type": "markdown",
   "id": "25fec2cb",
   "metadata": {},
   "source": [
    " Series and moving average plotting"
   ]
  },
  {
   "cell_type": "code",
   "execution_count": null,
   "id": "1534d39d",
   "metadata": {},
   "outputs": [],
   "source": [
    "plt.figure()\n",
    "ts[\"value\"].plot()\n",
    "plt.title(\"Daily Series\")\n",
    "plt.xlabel(\"Date\")\n",
    "plt.ylabel(\"Value\")\n",
    "plt.show()\n",
    "\n",
    "# 7-day moving average\n",
    "ma7 = ts[\"value\"].rolling(window=7).mean()\n",
    "\n",
    "plt.figure()\n",
    "ts[\"value\"].plot(alpha=0.5)\n",
    "ma7.plot()\n",
    "plt.title(\"7-Day Moving Average\")\n",
    "plt.xlabel(\"Date\")\n",
    "plt.ylabel(\"Value\")\n",
    "plt.show()"
   ]
  },
  {
   "cell_type": "markdown",
   "id": "b09bb673",
   "metadata": {},
   "source": [
    "Note: For ARIMA/ETS models, use packages like `statsmodels`."
   ]
  }
 ],
 "metadata": {},
 "nbformat": 4,
 "nbformat_minor": 5
}
