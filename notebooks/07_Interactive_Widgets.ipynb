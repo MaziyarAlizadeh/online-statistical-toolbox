{
 "cells": [
  {
   "cell_type": "markdown",
   "id": "bf614ef1",
   "metadata": {},
   "source": [
    "# 07 — نمونه ابزارک‌های تعاملی با ipywidgets (اختیاری)"
   ]
  },
  {
   "cell_type": "code",
   "execution_count": null,
   "id": "b31d9ba2",
   "metadata": {},
   "outputs": [],
   "source": [
    "import pandas as pd\n",
    "import numpy as np\n",
    "import matplotlib.pyplot as plt\n",
    "from ipywidgets import interact, IntSlider\n",
    "\n",
    "reg = pd.read_csv(\"../data/linear_regression.csv\")\n",
    "\n",
    "@interact(nbins=IntSlider(min=5, max=50, step=1, value=20))\n",
    "def hist_nbins(nbins=20):\n",
    "    plt.figure()\n",
    "    plt.hist(reg[\"y\"], bins=nbins, edgecolor=\"black\")\n",
    "    plt.title(f\"Histogram with {nbins} bins\")\n",
    "    plt.xlabel(\"y\")\n",
    "    plt.ylabel(\"Frequency\")\n",
    "    plt.show()"
   ]
  }
 ],
 "metadata": {},
 "nbformat": 4,
 "nbformat_minor": 5
}
